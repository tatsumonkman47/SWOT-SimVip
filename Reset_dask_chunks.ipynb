{
 "cells": [
  {
   "cell_type": "code",
   "execution_count": null,
   "id": "5ace6b26-8c4e-45ce-9705-a09f9f78c012",
   "metadata": {},
   "outputs": [
    {
     "name": "stderr",
     "output_type": "stream",
     "text": [
      "Rechunking Zarr files:  58%|█████▊    | 196/337 [2:30:28<1:55:38, 49.21s/it]"
     ]
    }
   ],
   "source": [
    "import xarray as xr\n",
    "import dask.array as da\n",
    "import glob\n",
    "from tqdm import tqdm\n",
    "import os\n",
    "DATASET_PATH = \"/vast/tm3076/pytorch_learning_tiles\"\n",
    "\n",
    "# Define paths\n",
    "file_path = f\"{DATASET_PATH}/HRS_SST_tiles/agg_cloud_masks_zarr/*\"\n",
    "new_file_path = f\"{DATASET_PATH}/HRS_SST_tiles/agg_cloud_masks_zarr_split_t\"\n",
    "# Ensure output directory exists\n",
    "os.makedirs(new_file_path, exist_ok=True)\n",
    "# Gather and sort Zarr file paths\n",
    "zarr_files = sorted(glob.glob(file_path))\n",
    "# Rechunk and write with progress bar\n",
    "for zarr_file in tqdm(zarr_files, desc=\"Rechunking Zarr files\"):\n",
    "    if os.path.exists(os.path.join(new_file_path,os.path.basename(zarr_file))):\n",
    "        continue\n",
    "    ds = xr.open_zarr(zarr_file, chunks={})\n",
    "    ds_rechunked = ds.chunk({\"time\": 1, \"x\": 128, \"y\": 128})\n",
    "    # REMOVE pre-existing encoding chunks\n",
    "    for var in ds_rechunked.data_vars:\n",
    "        ds_rechunked[var].encoding.pop(\"chunks\", None)\n",
    "    out_path = os.path.join(new_file_path, os.path.basename(zarr_file))\n",
    "    ds_rechunked.to_zarr(out_path, mode=\"w\", consolidated=True)"
   ]
  },
  {
   "cell_type": "code",
   "execution_count": null,
   "id": "32f67347-606a-4ff4-aab3-385059c8cb6e",
   "metadata": {},
   "outputs": [],
   "source": []
  }
 ],
 "metadata": {
  "kernelspec": {
   "display_name": "swot_python12_pytorch",
   "language": "python",
   "name": "swot_python12_pytorch"
  },
  "language_info": {
   "codemirror_mode": {
    "name": "ipython",
    "version": 3
   },
   "file_extension": ".py",
   "mimetype": "text/x-python",
   "name": "python",
   "nbconvert_exporter": "python",
   "pygments_lexer": "ipython3",
   "version": "3.12.7"
  }
 },
 "nbformat": 4,
 "nbformat_minor": 5
}
